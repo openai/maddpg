{
 "cells": [
  {
   "cell_type": "code",
   "execution_count": 1,
   "id": "initial_id",
   "metadata": {
    "collapsed": true,
    "ExecuteTime": {
     "end_time": "2024-02-27T19:09:05.960802362Z",
     "start_time": "2024-02-27T19:09:05.820538425Z"
    }
   },
   "outputs": [],
   "source": [
    "# from gymnasium_robotics.mamujoco_v0 import get_parts_and_edges\n",
    "import gymnasium_robotics\n",
    "import numpy as np \n",
    "import time"
   ]
  },
  {
   "cell_type": "code",
   "execution_count": 2,
   "outputs": [],
   "source": [
    "unpartioned_nodes, edges, global_nodes = gymnasium_robotics.mamujoco_v0.get_parts_and_edges('Ant-v4', None)"
   ],
   "metadata": {
    "collapsed": false,
    "ExecuteTime": {
     "end_time": "2024-02-27T19:09:07.033202925Z",
     "start_time": "2024-02-27T19:09:07.015106306Z"
    }
   },
   "id": "975a7ce0136d9f95"
  },
  {
   "cell_type": "code",
   "execution_count": 3,
   "outputs": [],
   "source": [
    "partioned_nodes = [(unpartioned_nodes[0][0],), (unpartioned_nodes[0][1],), (unpartioned_nodes[0][2],), (unpartioned_nodes[0][3],), (unpartioned_nodes[0][4],), (unpartioned_nodes[0][5],), (unpartioned_nodes[0][6],), (unpartioned_nodes[0][7],)]"
   ],
   "metadata": {
    "collapsed": false,
    "ExecuteTime": {
     "end_time": "2024-02-27T19:09:08.196621452Z",
     "start_time": "2024-02-27T19:09:08.194868119Z"
    }
   },
   "id": "ab6afb4f174d5f5a"
  },
  {
   "cell_type": "code",
   "execution_count": 4,
   "outputs": [
    {
     "name": "stderr",
     "output_type": "stream",
     "text": [
      "/home/pearl0/miniconda3/envs/MMJC-maddpg/lib/python3.9/site-packages/gymnasium/core.py:311: UserWarning: \u001B[33mWARN: env.data to get variables from other wrappers is deprecated and will be removed in v1.0, to get this variable you can do `env.unwrapped.data` for environment variables or `env.get_wrapper_attr('data')` that will search the reminding wrappers.\u001B[0m\n",
      "  logger.warn(\n",
      "/home/pearl0/miniconda3/envs/MMJC-maddpg/lib/python3.9/site-packages/pettingzoo/utils/conversions.py:252: UserWarning: The base environment `MaMuJoCo` does not have a `render_mode` defined.\n",
      "  warnings.warn(\n"
     ]
    }
   ],
   "source": [
    "my_agent_factorization = {\"partition\": partioned_nodes, \"edges\": edges, \"globals\": global_nodes}\n",
    "env = gymnasium_robotics.mamujoco_v0.env(scenario='Ant', agent_conf ='8x1', agent_factorization=my_agent_factorization)"
   ],
   "metadata": {
    "collapsed": false,
    "ExecuteTime": {
     "end_time": "2024-02-27T19:09:08.866875517Z",
     "start_time": "2024-02-27T19:09:08.851406976Z"
    }
   },
   "id": "156a332f70396473"
  },
  {
   "cell_type": "code",
   "execution_count": 5,
   "outputs": [],
   "source": [
    "env.reset()"
   ],
   "metadata": {
    "collapsed": false,
    "ExecuteTime": {
     "end_time": "2024-02-27T19:09:24.335755151Z",
     "start_time": "2024-02-27T19:09:24.324248276Z"
    }
   },
   "id": "6448f0989fa52cbc"
  },
  {
   "cell_type": "code",
   "execution_count": 6,
   "outputs": [],
   "source": [
    "env.step([0,0,0,0,0,0,0,0])"
   ],
   "metadata": {
    "collapsed": false,
    "ExecuteTime": {
     "end_time": "2024-02-27T19:09:24.714194215Z",
     "start_time": "2024-02-27T19:09:24.708035990Z"
    }
   },
   "id": "50bf02182fec9192"
  },
  {
   "cell_type": "code",
   "execution_count": 7,
   "outputs": [
    {
     "ename": "ModuleNotFoundError",
     "evalue": "No module named 'torch'",
     "output_type": "error",
     "traceback": [
      "\u001B[0;31m---------------------------------------------------------------------------\u001B[0m",
      "\u001B[0;31mModuleNotFoundError\u001B[0m                       Traceback (most recent call last)",
      "Cell \u001B[0;32mIn[7], line 1\u001B[0m\n\u001B[0;32m----> 1\u001B[0m \u001B[38;5;28;01mimport\u001B[39;00m \u001B[38;5;21;01mtorch\u001B[39;00m\n\u001B[1;32m      4\u001B[0m eval_env \u001B[38;5;241m=\u001B[39m gymnasium_robotics\u001B[38;5;241m.\u001B[39mmamujoco_v0\u001B[38;5;241m.\u001B[39menv(scenario\u001B[38;5;241m=\u001B[39m\u001B[38;5;124m'\u001B[39m\u001B[38;5;124mAnt\u001B[39m\u001B[38;5;124m'\u001B[39m, agent_conf \u001B[38;5;241m=\u001B[39m\u001B[38;5;124m'\u001B[39m\u001B[38;5;124m8x1\u001B[39m\u001B[38;5;124m'\u001B[39m, agent_factorization\u001B[38;5;241m=\u001B[39mmy_agent_factorization)\n\u001B[1;32m      5\u001B[0m eval_episodes \u001B[38;5;241m=\u001B[39m \u001B[38;5;241m10\u001B[39m\n",
      "\u001B[0;31mModuleNotFoundError\u001B[0m: No module named 'torch'"
     ]
    }
   ],
   "source": [
    "import torch\n",
    "\n",
    "\n",
    "eval_env = gymnasium_robotics.mamujoco_v0.env(scenario='Ant', agent_conf ='8x1', agent_factorization=my_agent_factorization)\n",
    "eval_episodes = 10\n",
    "total_return = 0\n",
    "for i in range(eval_episodes):\n",
    "    cur_state_dict = eval_env.reset()[0]\n",
    "    terminated, truncated = 0, 0\n",
    "    while not (terminated or truncated):\n",
    "        cur_state = [torch.tensor(local_state, dtype=torch.float32, device=TORCH_DEVICE) for local_state in cur_state_dict.values()]\n",
    "        actions = model.query_actor(cur_state, add_noise=False)\n",
    "        actions_dict_numpy = {eval_env.possible_agents[agent_id]: actions[agent_id].tolist() for agent_id in range(len(eval_env.possible_agents))}\n",
    "        cur_state_dict, reward_dict, is_terminal_dict, is_truncated_dict, info_dict = eval_env.step(actions_dict_numpy)\n",
    "        total_return += reward_dict['agent_0']\n",
    "        terminated = is_terminal_dict['agent_0']\n",
    "        truncated = is_truncated_dict['agent_0']\n"
   ],
   "metadata": {
    "collapsed": false,
    "ExecuteTime": {
     "end_time": "2024-02-27T19:09:28.005679841Z",
     "start_time": "2024-02-27T19:09:27.639019224Z"
    }
   },
   "id": "8adc38e28ae8189b"
  },
  {
   "cell_type": "code",
   "execution_count": null,
   "outputs": [],
   "source": [],
   "metadata": {
    "collapsed": false
   },
   "id": "8db472f43fc02be7"
  }
 ],
 "metadata": {
  "kernelspec": {
   "display_name": "Python 3",
   "language": "python",
   "name": "python3"
  },
  "language_info": {
   "codemirror_mode": {
    "name": "ipython",
    "version": 2
   },
   "file_extension": ".py",
   "mimetype": "text/x-python",
   "name": "python",
   "nbconvert_exporter": "python",
   "pygments_lexer": "ipython2",
   "version": "2.7.6"
  }
 },
 "nbformat": 4,
 "nbformat_minor": 5
}
